{
  "nbformat": 4,
  "nbformat_minor": 0,
  "metadata": {
    "colab": {
      "provenance": [],
      "collapsed_sections": [
        "4OpyWevrfDP4",
        "Bj7ndNv6fMft",
        "ibEuCRw2f00e",
        "iiHX9oZfgPp7",
        "CSL3D4NZgucY",
        "w9qN725IitQh",
        "uzntB58RjC76"
      ],
      "toc_visible": true,
      "authorship_tag": "ABX9TyNlx1PEZGQnQEFGBsLyoJhb",
      "include_colab_link": true
    },
    "kernelspec": {
      "name": "python3",
      "display_name": "Python 3"
    },
    "language_info": {
      "name": "python"
    }
  },
  "cells": [
    {
      "cell_type": "markdown",
      "metadata": {
        "id": "view-in-github",
        "colab_type": "text"
      },
      "source": [
        "<a href=\"https://colab.research.google.com/github/mihutandra/PythonRepository2/blob/main/My_Calculator.ipynb\" target=\"_parent\"><img src=\"https://colab.research.google.com/assets/colab-badge.svg\" alt=\"Open In Colab\"/></a>"
      ]
    },
    {
      "cell_type": "markdown",
      "source": [],
      "metadata": {
        "id": "RMXPyv4nem6G"
      }
    },
    {
      "cell_type": "markdown",
      "source": [
        "This is My Calculator built with Python!"
      ],
      "metadata": {
        "id": "dOmdWCEwepjD"
      }
    },
    {
      "cell_type": "markdown",
      "source": [
        "# Proportions"
      ],
      "metadata": {
        "id": "4OpyWevrfDP4"
      }
    },
    {
      "cell_type": "code",
      "source": [
        "#Put a zero in for the unknown value\n",
        "n1 = 1\n",
        "d1 = 1\n",
        "n2 = 0\n",
        "d2 = 16\n",
        "\n",
        "if n2 == 0:\n",
        "  answer = d2*n1/d1\n",
        "  print(\"n2 = \",answer)\n",
        "\n",
        "if d2 == 0:\n",
        "  answer = n2*d1/n1\n",
        "  print(\"d2 = \", answer)"
      ],
      "metadata": {
        "id": "QNVqdE-mrRu9",
        "outputId": "3b2e482d-9466-4875-9804-3d6e901fd20d",
        "colab": {
          "base_uri": "https://localhost:8080/"
        }
      },
      "execution_count": null,
      "outputs": [
        {
          "output_type": "stream",
          "name": "stdout",
          "text": [
            "n2 =  16.0\n"
          ]
        }
      ]
    },
    {
      "cell_type": "markdown",
      "source": [
        "# Convert to fraction and percent"
      ],
      "metadata": {
        "id": "Bj7ndNv6fMft"
      }
    },
    {
      "cell_type": "code",
      "execution_count": null,
      "metadata": {
        "id": "pDaZckUyBKRl"
      },
      "outputs": [],
      "source": [
        "\n",
        "# Get string input, which will include a decimal point\n",
        "digits = input(\"Enter a decimal number to convert: \")\n",
        "\n",
        "# Get number of decimal places as an integer\n",
        "exponent = int(len(digits))-1\n",
        "\n",
        "# Convert the input to a float number\n",
        "n = float(digits)\n",
        "\n",
        "# Use the exponent to get the numerator\n",
        "numerator = int(n * 10**exponent)\n",
        "\n",
        "# Use the expoent to get the denominator\n",
        "denominator = 10**exponent\n",
        "\n",
        "# percent is the first two decimal places\n",
        "percent = n * 100\n",
        "\n",
        "# Output\n",
        "print(\"The decimal is \", n)\n",
        "print(\"The fraction is \", numerator, \"/\", denominator)\n",
        "print(\"The percent is \", percent, \" %\")\n",
        "\n"
      ]
    },
    {
      "cell_type": "markdown",
      "source": [
        "# Convert string to float"
      ],
      "metadata": {
        "id": "ibEuCRw2f00e"
      }
    },
    {
      "cell_type": "code",
      "source": [
        "# converts string input (even fractions) to float : 2/3 -> float\n",
        "def string_frac(in_string):\n",
        "    if \"/\" in in_string:\n",
        "        nd = in_string.split(\"/\")\n",
        "        n = float(nd[0])\n",
        "        d = float(nd[1])\n",
        "        ans = n/d\n",
        "        return ans\n",
        "    else:\n",
        "        ans = float(in_string)\n",
        "        return ans"
      ],
      "metadata": {
        "id": "R9FKdEBef8Oh"
      },
      "execution_count": null,
      "outputs": []
    },
    {
      "cell_type": "markdown",
      "source": [
        "# Solve for x"
      ],
      "metadata": {
        "id": "iiHX9oZfgPp7"
      }
    },
    {
      "cell_type": "code",
      "source": [
        "import sympy\n",
        "from sympy import symbols\n",
        "from sympy.solvers import solve\n",
        "\n",
        "x = symbols('x')\n",
        "equation = input(\"Give an equation to solve: 0 = \")\n",
        "solution = solve(equation,x)\n",
        "for s in solution:\n",
        "    print(\"x = \", s)\n",
        "\n",
        "sympy.factor(equation)"
      ],
      "metadata": {
        "colab": {
          "base_uri": "https://localhost:8080/",
          "height": 108
        },
        "id": "QwcKSSnagSmg",
        "outputId": "24af37d7-1d63-4c56-b5ca-6e0a84b56e1a"
      },
      "execution_count": null,
      "outputs": [
        {
          "output_type": "stream",
          "name": "stdout",
          "text": [
            "Give an equation to solve: 0 = x**3 - 2*x**2 - 5*x + 6 \n",
            "x =  -2\n",
            "x =  1\n",
            "x =  3\n"
          ]
        },
        {
          "output_type": "execute_result",
          "data": {
            "text/plain": [
              "(x - 3)*(x - 1)*(x + 2)"
            ],
            "text/latex": "$\\displaystyle \\left(x - 3\\right) \\left(x - 1\\right) \\left(x + 2\\right)$"
          },
          "metadata": {},
          "execution_count": 11
        }
      ]
    },
    {
      "cell_type": "markdown",
      "source": [
        "# Factor an expression"
      ],
      "metadata": {
        "id": "CSL3D4NZgucY"
      }
    },
    {
      "cell_type": "code",
      "source": [
        "import sympy\n",
        "from sympy import *\n",
        "import math\n",
        "\n",
        "var('x y')\n",
        "expr = input(\"Give an expression to factor\")\n",
        "sympy.factor(expr)"
      ],
      "metadata": {
        "colab": {
          "base_uri": "https://localhost:8080/",
          "height": 56
        },
        "id": "uU1HIt8tgzoM",
        "outputId": "0598108a-8c6c-4ba8-89e6-4ff48d02a7a7"
      },
      "execution_count": null,
      "outputs": [
        {
          "name": "stdout",
          "output_type": "stream",
          "text": [
            "Give an expression to factorx**3 - 2*x**2 - 5*x + 6 \n"
          ]
        },
        {
          "output_type": "execute_result",
          "data": {
            "text/plain": [
              "(x - 3)*(x - 1)*(x + 2)"
            ],
            "text/latex": "$\\displaystyle \\left(x - 3\\right) \\left(x - 1\\right) \\left(x + 2\\right)$"
          },
          "metadata": {},
          "execution_count": 2
        }
      ]
    },
    {
      "cell_type": "markdown",
      "source": [
        "# Equation of a line given by slope"
      ],
      "metadata": {
        "id": "w9qN725IitQh"
      }
    },
    {
      "cell_type": "code",
      "source": [
        "import matplotlib.pyplot as plt\n",
        "import numpy as np\n",
        "\n",
        "x1 = 0\n",
        "y1 = 50\n",
        "x2 = 100\n",
        "y2 = 300\n",
        "\n",
        "# Develop the equation y = mx + b\n",
        "m = (y2 - y1) / (x2 - x1)\n",
        "b = y1 - m*x1\n",
        "print(\"y = \", m, \"x + \", b)\n",
        "\n",
        "# Dimensions for the graph\n",
        "xmin = -10\n",
        "xmax = 10\n",
        "ymin = 0\n",
        "ymax = 500\n",
        "\n",
        "# For the line on the graph\n",
        "y3 = m*xmin + b\n",
        "y4 = m*xmax + b\n",
        "\n",
        "# Basic setup for the graph\n",
        "fig, ax = plt.subplots()\n",
        "plt.axis([xmin,xmax,ymin,ymax]) # window size\n",
        "plt.plot([xmin,xmax],[0,0],'b') # blue x axis\n",
        "plt.plot([0,0],[ymin,ymax], 'b') # blue y axis\n",
        "\n",
        "# Add details to the graph\n",
        "ax.set_xlabel(\"x values\")\n",
        "ax.set_ylabel(\"y values\")\n",
        "ax.grid(True)\n",
        "#ax.set_xticks(np.arange(xmin, xmax, 2))\n",
        "#ax.set_yticks(np.arange(ymin, ymax, 1))\n",
        "\n",
        "\n",
        "# Plot the linear function as a red line\n",
        "plt.plot([xmin,xmax],[y3,y4],'r')\n",
        "\n",
        "plt.show()"
      ],
      "metadata": {
        "colab": {
          "base_uri": "https://localhost:8080/",
          "height": 472
        },
        "id": "-zR7y-JvixI9",
        "outputId": "7b7a4949-6a46-4a1d-941b-1cc837ce7ae1"
      },
      "execution_count": null,
      "outputs": [
        {
          "output_type": "stream",
          "name": "stdout",
          "text": [
            "y =  2.5 x +  50.0\n"
          ]
        },
        {
          "output_type": "display_data",
          "data": {
            "text/plain": [
              "<Figure size 640x480 with 1 Axes>"
            ],
            "image/png": "[encoded data removed]"
          },
          "metadata": {}
        }
      ]
    },
    {
      "cell_type": "markdown",
      "source": [
        "# Quadratic functions"
      ],
      "metadata": {
        "id": "uzntB58RjC76"
      }
    },
    {
      "cell_type": "code",
      "source": [
        "import matplotlib.pyplot as plt\n",
        "import numpy as np\n",
        "import math\n",
        "\n",
        "# DEFINE THE 3 COEFFICIENTS HERE\n",
        "a = 1\n",
        "b = 5\n",
        "c = 6\n",
        "\n",
        "print(\"y = \", a, \"x**2 + \", b, \"x + \", c)\n",
        "\n",
        "# Vertex V(vx,vy)\n",
        "vx = -b/(2*a)\n",
        "vy = a*(vx**2) + b*vx + c\n",
        "print(\"Vertex: (\",vx,\",\",vy,\")\")\n",
        "\n",
        "# Real Roots\n",
        "d = b**2 - 4*a*c\n",
        "if d>=0:\n",
        "    root_1 = (-b + math.sqrt(d))/(2*a)\n",
        "    root_2 = (-b - math.sqrt(d))/(2*a)\n",
        "    print(\"Roots: x = \", root_1, \" and x = \", root_2)\n",
        "else:\n",
        "    print(\"No real roots\")\n",
        "\n",
        "xmin = -10\n",
        "xmax = 10\n",
        "ymin = -10\n",
        "ymax = 10\n",
        "points = 10*(xmax-xmin)\n",
        "x = np.linspace(xmin,xmax,points)\n",
        "\n",
        "fig, ax = plt.subplots()\n",
        "plt.axis([xmin,xmax,ymin,ymax]) # window size\n",
        "plt.plot([xmin,xmax],[0,0],'b') # blue x axis\n",
        "plt.plot([0,0],[ymin,ymax], 'b') # blue y axis\n",
        "\n",
        "# Graph the parabola with magenta\n",
        "y1 = a*x**2 + b*x + c\n",
        "plt.plot(x, y1, 'm')\n",
        "\n",
        "# Plot the vertex with red\n",
        "plt.plot([vx],[vy], 'ro')\n",
        "\n",
        "# Plot the roots with green\n",
        "plt.plot([root_1, root_2],[0,0], 'go')\n",
        "\n",
        "plt.show()\n"
      ],
      "metadata": {
        "colab": {
          "base_uri": "https://localhost:8080/",
          "height": 487
        },
        "id": "2NKusHjHjGAV",
        "outputId": "cc21cf28-a71f-4003-9eeb-cf43cc999b6e"
      },
      "execution_count": null,
      "outputs": [
        {
          "output_type": "stream",
          "name": "stdout",
          "text": [
            "y =  1 x**2 +  5 x +  6\n",
            "Vertex: ( -2.5 , -0.25 )\n",
            "Roots: x =  -2.0  and x =  -3.0\n"
          ]
        },
        {
          "output_type": "display_data",
          "data": {
            "text/plain": [
              "<Figure size 640x480 with 1 Axes>"
            ],
            "image/png": "[encoded data removed]"
          },
          "metadata": {}
        }
      ]
    }
  ]
}